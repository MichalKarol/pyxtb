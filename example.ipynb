{
 "cells": [
  {
   "cell_type": "code",
   "execution_count": null,
   "metadata": {},
   "outputs": [],
   "source": [
    "%load_ext autoreload\n",
    "%autoreload 2"
   ]
  },
  {
   "cell_type": "code",
   "execution_count": 5,
   "metadata": {},
   "outputs": [],
   "source": [
    "import asyncio\n",
    "import datetime\n",
    "\n",
    "from pyxtb import (\n",
    "    Api,\n",
    "    ChartLastInfoRecord,\n",
    "    ChartRangeInfoRecord,\n",
    "    Cmd,\n",
    "    Period,\n",
    "    TradeTransInfoRecord,\n",
    "    TradeTransResponseRecord,\n",
    "    TransactionType,\n",
    ")\n"
   ]
  },
  {
   "cell_type": "code",
   "execution_count": 7,
   "metadata": {},
   "outputs": [],
   "source": [
    "api = Api(1000000, \"password\", \"pyxtb\", demo=True)"
   ]
  },
  {
   "cell_type": "code",
   "execution_count": 8,
   "metadata": {},
   "outputs": [],
   "source": [
    "# manually login\n",
    "await api.login()"
   ]
  },
  {
   "cell_type": "code",
   "execution_count": 9,
   "metadata": {},
   "outputs": [],
   "source": [
    "# getAllSymbols\n",
    "response = await api.get_all_symbols()"
   ]
  },
  {
   "cell_type": "code",
   "execution_count": 7,
   "metadata": {},
   "outputs": [],
   "source": [
    "# getCalendar\n",
    "response = await api.get_calendar()"
   ]
  },
  {
   "cell_type": "code",
   "execution_count": 8,
   "metadata": {},
   "outputs": [],
   "source": [
    "# getChartLastRequest\n",
    "response = await api.get_chart_last_request(\n",
    "    ChartLastInfoRecord(\n",
    "        period=Period.PERIOD_M5,\n",
    "        start=int(\n",
    "            (datetime.datetime.now() - datetime.timedelta(days=1)).timestamp() * 1000\n",
    "        ),\n",
    "        symbol=\"EURPLN\",\n",
    "    )\n",
    ")"
   ]
  },
  {
   "cell_type": "code",
   "execution_count": 9,
   "metadata": {},
   "outputs": [],
   "source": [
    "# getChartRangeRequest\n",
    "response = await api.get_chart_last_request(\n",
    "    ChartRangeInfoRecord(\n",
    "        period=Period.PERIOD_M5,\n",
    "        start=int(\n",
    "            (datetime.datetime.now() - datetime.timedelta(days=1)).timestamp() * 1000\n",
    "        ),\n",
    "        end=int(datetime.datetime.now().timestamp() * 1000),\n",
    "        ticks=None,\n",
    "        symbol=\"EURPLN\",\n",
    "    )\n",
    ")"
   ]
  },
  {
   "cell_type": "code",
   "execution_count": 10,
   "metadata": {},
   "outputs": [],
   "source": [
    "# getCommissionDef\n",
    "response = await api.get_commission_def(\"EURPLN\", 1)"
   ]
  },
  {
   "cell_type": "code",
   "execution_count": 11,
   "metadata": {},
   "outputs": [],
   "source": [
    "# getCurrentUserData\n",
    "response = await api.get_current_user_data()"
   ]
  },
  {
   "cell_type": "code",
   "execution_count": null,
   "metadata": {},
   "outputs": [],
   "source": [
    "# getIbsHistory\n",
    "response = await api.get_ibs_history(\n",
    "    start=int(\n",
    "        (datetime.datetime.now() - datetime.timedelta(days=1)).timestamp() * 1000\n",
    "    ),\n",
    "    end=int(datetime.datetime.now().timestamp() * 1000),\n",
    ")"
   ]
  },
  {
   "cell_type": "code",
   "execution_count": 13,
   "metadata": {},
   "outputs": [],
   "source": [
    "# getMarginLevel\n",
    "response = await api.get_margin_level()"
   ]
  },
  {
   "cell_type": "code",
   "execution_count": 15,
   "metadata": {},
   "outputs": [],
   "source": [
    "# getMarginTrade\n",
    "response = await api.get_margin_trade(\"EURPLN\", 1)"
   ]
  },
  {
   "cell_type": "code",
   "execution_count": 19,
   "metadata": {},
   "outputs": [],
   "source": [
    "# getNews\n",
    "response = await api.get_news(\n",
    "    start=int((datetime.datetime.now() - datetime.timedelta(days=1)).timestamp() * 1000)\n",
    ")"
   ]
  },
  {
   "cell_type": "code",
   "execution_count": 21,
   "metadata": {},
   "outputs": [],
   "source": [
    "# getProfitCalculation\n",
    "response = await api.get_profit_calculation(\n",
    "    closePrice=1.3000, cmd=Cmd.BUY, openPrice=1.2233, symbol=\"EURPLN\", volume=1.0\n",
    ")"
   ]
  },
  {
   "cell_type": "code",
   "execution_count": 23,
   "metadata": {},
   "outputs": [],
   "source": [
    "# getServerTime\n",
    "response = await api.get_server_time()"
   ]
  },
  {
   "cell_type": "code",
   "execution_count": 26,
   "metadata": {},
   "outputs": [],
   "source": [
    "# getStepRules\n",
    "response = await api.get_step_rules()"
   ]
  },
  {
   "cell_type": "code",
   "execution_count": 29,
   "metadata": {},
   "outputs": [],
   "source": [
    "# getSymbol\n",
    "response = await api.get_symbol(\"EURPLN\")"
   ]
  },
  {
   "cell_type": "code",
   "execution_count": 32,
   "metadata": {},
   "outputs": [],
   "source": [
    "# getTickPrices\n",
    "response = await api.get_tick_prices(0, [\"EURPLN\"], timestamp=int((datetime.datetime.now() - datetime.timedelta(minutes=5)).timestamp() * 1000))"
   ]
  },
  {
   "cell_type": "code",
   "execution_count": 36,
   "metadata": {},
   "outputs": [],
   "source": [
    "# getTradeRecords\n",
    "response = await api.get_trade_records([7489839])"
   ]
  },
  {
   "cell_type": "code",
   "execution_count": 42,
   "metadata": {},
   "outputs": [],
   "source": [
    "# getTrades\n",
    "response = await api.get_trades(True)"
   ]
  },
  {
   "cell_type": "code",
   "execution_count": 46,
   "metadata": {},
   "outputs": [],
   "source": [
    "# getTradesHistory\n",
    "response = await api.get_trades_history(start=int((datetime.datetime.now() - datetime.timedelta(days=1)).timestamp() * 1000))"
   ]
  },
  {
   "cell_type": "code",
   "execution_count": null,
   "metadata": {},
   "outputs": [],
   "source": [
    "# getTradingHours\n",
    "response = await api.get_trading_hours([\"EURPLN\"])"
   ]
  },
  {
   "cell_type": "code",
   "execution_count": 52,
   "metadata": {},
   "outputs": [],
   "source": [
    "# getVersion\n",
    "response = await api.get_version()"
   ]
  },
  {
   "cell_type": "code",
   "execution_count": 54,
   "metadata": {},
   "outputs": [],
   "source": [
    "# ping\n",
    "response = await api.ping()"
   ]
  },
  {
   "cell_type": "code",
   "execution_count": 62,
   "metadata": {},
   "outputs": [],
   "source": [
    "# tradeTransaction\n",
    "trade_response = TradeTransResponseRecord(0)\n",
    "# trade_response = await api.trade_transaction(TradeTransInfoRecord(\n",
    "#     cmd=Cmd.BUY,\n",
    "#     customComment=\"Test\",\n",
    "#     expiration=int((datetime.datetime.now() + datetime.timedelta(days=1)).timestamp() * 1000),\n",
    "#     offset=0,\n",
    "#     order=0,\n",
    "#     price=4.50,\n",
    "#     symbol=\"EURPLN\",\n",
    "#     sl=0,\n",
    "#     tp=0,\n",
    "#     type=TransactionType.OPEN,\n",
    "#     volume=0.01\n",
    "# ))"
   ]
  },
  {
   "cell_type": "code",
   "execution_count": null,
   "metadata": {},
   "outputs": [],
   "source": [
    "# tradeTransactionStatus\n",
    "response = await api.trade_transaction_status(trade_response.order)"
   ]
  },
  {
   "cell_type": "code",
   "execution_count": null,
   "metadata": {},
   "outputs": [],
   "source": [
    "# getBalance\n",
    "async with asyncio.timeout(5):\n",
    "    unsubscribe = await api.subscribe_get_balance(lambda balance: print(balance))\n",
    "    await asyncio.sleep(3)\n",
    "    await unsubscribe()"
   ]
  },
  {
   "cell_type": "code",
   "execution_count": 39,
   "metadata": {},
   "outputs": [],
   "source": [
    "# getCandles\n",
    "async with asyncio.timeout(120):\n",
    "    unsubscribe = await api.subscribe_get_candles(lambda candles: print(candles), \"INTC.US_9\")\n",
    "    await asyncio.sleep(115)\n",
    "    await unsubscribe()"
   ]
  },
  {
   "cell_type": "code",
   "execution_count": null,
   "metadata": {},
   "outputs": [],
   "source": [
    "# getKeepAlive\n",
    "async with asyncio.timeout(30):\n",
    "    unsubscribe = await api.subscribe_get_keep_alive(lambda kaRecord: print(kaRecord))\n",
    "    await asyncio.sleep(29)\n",
    "    await unsubscribe()"
   ]
  },
  {
   "cell_type": "code",
   "execution_count": 37,
   "metadata": {},
   "outputs": [],
   "source": [
    "# getNews\n",
    "async with asyncio.timeout(30):\n",
    "    unsubscribe = await api.subscribe_get_news(lambda news: print(news))\n",
    "    await asyncio.sleep(29)\n",
    "    await unsubscribe()"
   ]
  },
  {
   "cell_type": "code",
   "execution_count": null,
   "metadata": {},
   "outputs": [],
   "source": [
    "# getProfits\n",
    "async with asyncio.timeout(30):\n",
    "    unsubscribe = await api.subscribe_get_profits(lambda profits: print(profits))\n",
    "    await asyncio.sleep(29)\n",
    "    await unsubscribe()"
   ]
  },
  {
   "cell_type": "code",
   "execution_count": null,
   "metadata": {},
   "outputs": [],
   "source": [
    "# getTickPrices\n",
    "async with asyncio.timeout(30):\n",
    "    unsubscribe = await api.subscribe_tick_prices(lambda prices: print(prices), \"INTC.US_9\", 1, None)\n",
    "    await asyncio.sleep(29)\n",
    "    await unsubscribe()"
   ]
  },
  {
   "cell_type": "code",
   "execution_count": null,
   "metadata": {},
   "outputs": [],
   "source": [
    "# getTrades\n",
    "async with asyncio.timeout(30):\n",
    "    unsubscribe = await api.subscribe_trades(lambda trades: print(trades))\n",
    "    await asyncio.sleep(29)\n",
    "    await unsubscribe()"
   ]
  },
  {
   "cell_type": "code",
   "execution_count": null,
   "metadata": {},
   "outputs": [],
   "source": [
    "# getTradeStatus\n",
    "async with asyncio.timeout(30):\n",
    "    unsubscribe = await api.subscribe_trade_status(lambda trades: print(trades))\n",
    "    await asyncio.sleep(29)\n",
    "    await unsubscribe()"
   ]
  },
  {
   "cell_type": "code",
   "execution_count": null,
   "metadata": {},
   "outputs": [],
   "source": [
    "# ping\n",
    "async with asyncio.timeout(5):\n",
    "    await api.streaming_ping()"
   ]
  },
  {
   "cell_type": "code",
   "execution_count": null,
   "metadata": {},
   "outputs": [],
   "source": [
    "async with Api(1000000, \"password\") as api:\n",
    "    trades = await api.get_trades(openedOnly=True)\n",
    "    symbols = [await api.get_symbol(trade.symbol) for trade in trades]\n",
    "    symbol_map = {symbol.symbol: symbol for symbol in symbols}\n",
    "    print(\"Opened trades profit\")\n",
    "    for trade in trades:\n",
    "        print(f\"{symbol_map[trade.symbol].description}: {trade.profit}\")\n",
    "    "
   ]
  }
 ],
 "metadata": {
  "kernelspec": {
   "display_name": ".venv",
   "language": "python",
   "name": "python3"
  },
  "language_info": {
   "codemirror_mode": {
    "name": "ipython",
    "version": 3
   },
   "file_extension": ".py",
   "mimetype": "text/x-python",
   "name": "python",
   "nbconvert_exporter": "python",
   "pygments_lexer": "ipython3",
   "version": "3.12.7"
  }
 },
 "nbformat": 4,
 "nbformat_minor": 2
}
